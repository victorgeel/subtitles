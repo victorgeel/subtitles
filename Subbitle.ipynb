{
  "nbformat": 4,
  "nbformat_minor": 0,
  "metadata": {
    "colab": {
      "provenance": [],
      "gpuType": "T4",
      "include_colab_link": true
    },
    "kernelspec": {
      "name": "python3",
      "display_name": "Python 3"
    },
    "language_info": {
      "name": "python"
    },
    "accelerator": "GPU"
  },
  "cells": [
    {
      "cell_type": "markdown",
      "metadata": {
        "id": "view-in-github",
        "colab_type": "text"
      },
      "source": [
        "<a href=\"https://colab.research.google.com/github/victorgeel/subtitles/blob/main/Subbitle.ipynb\" target=\"_parent\"><img src=\"https://colab.research.google.com/assets/colab-badge.svg\" alt=\"Open In Colab\"/></a>"
      ]
    },
    {
      "cell_type": "code",
      "execution_count": 2,
      "metadata": {
        "colab": {
          "base_uri": "https://localhost:8080/"
        },
        "id": "kqSl92FKxtzr",
        "outputId": "04181b3a-a8b2-4853-ca7e-f658dae837b1"
      },
      "outputs": [
        {
          "output_type": "stream",
          "name": "stdout",
          "text": [
            "/bin/bash: line 1: nvidia-smi: command not found\n",
            "Hit:1 https://cloud.r-project.org/bin/linux/ubuntu jammy-cran40/ InRelease\n",
            "Hit:2 https://developer.download.nvidia.com/compute/cuda/repos/ubuntu2204/x86_64  InRelease\n",
            "Hit:3 http://security.ubuntu.com/ubuntu jammy-security InRelease\n",
            "Hit:4 http://archive.ubuntu.com/ubuntu jammy InRelease\n",
            "Hit:5 http://archive.ubuntu.com/ubuntu jammy-updates InRelease\n",
            "Hit:6 https://ppa.launchpadcontent.net/c2d4u.team/c2d4u4.0+/ubuntu jammy InRelease\n",
            "Hit:7 http://archive.ubuntu.com/ubuntu jammy-backports InRelease\n",
            "Hit:8 https://ppa.launchpadcontent.net/deadsnakes/ppa/ubuntu jammy InRelease\n",
            "Hit:9 https://ppa.launchpadcontent.net/graphics-drivers/ppa/ubuntu jammy InRelease\n",
            "Hit:10 https://ppa.launchpadcontent.net/ubuntugis/ppa/ubuntu jammy InRelease\n",
            "Reading package lists... Done\n",
            "Building dependency tree... Done\n",
            "Reading state information... Done\n",
            "18 packages can be upgraded. Run 'apt list --upgradable' to see them.\n",
            "Reading package lists... Done\n",
            "Building dependency tree... Done\n",
            "Reading state information... Done\n",
            "fonts-open-sans is already the newest version (1.11-2).\n",
            "ffmpeg is already the newest version (7:4.4.2-0ubuntu0.22.04.1).\n",
            "0 upgraded, 0 newly installed, 0 to remove and 18 not upgraded.\n",
            "Collecting git+https://github.com/dsymbol/decipher\n",
            "  Cloning https://github.com/dsymbol/decipher to /tmp/pip-req-build-4v5kco_g\n",
            "  Running command git clone --filter=blob:none --quiet https://github.com/dsymbol/decipher /tmp/pip-req-build-4v5kco_g\n",
            "  Resolved https://github.com/dsymbol/decipher to commit 5c6d2d2809db1dcf29e402913ea4d6f8fa904a8c\n",
            "  Preparing metadata (setup.py) ... \u001b[?25l\u001b[?25hdone\n",
            "Requirement already satisfied: openai-whisper==20230314 in /usr/local/lib/python3.10/dist-packages (from decipher==0.0.0) (20230314)\n",
            "Requirement already satisfied: tqdm in /usr/local/lib/python3.10/dist-packages (from decipher==0.0.0) (4.66.1)\n",
            "Requirement already satisfied: triton==2.0.0 in /usr/local/lib/python3.10/dist-packages (from openai-whisper==20230314->decipher==0.0.0) (2.0.0)\n",
            "Requirement already satisfied: numba in /usr/local/lib/python3.10/dist-packages (from openai-whisper==20230314->decipher==0.0.0) (0.56.4)\n",
            "Requirement already satisfied: numpy in /usr/local/lib/python3.10/dist-packages (from openai-whisper==20230314->decipher==0.0.0) (1.23.5)\n",
            "Requirement already satisfied: torch in /usr/local/lib/python3.10/dist-packages (from openai-whisper==20230314->decipher==0.0.0) (2.0.1+cu118)\n",
            "Requirement already satisfied: more-itertools in /usr/local/lib/python3.10/dist-packages (from openai-whisper==20230314->decipher==0.0.0) (10.1.0)\n",
            "Requirement already satisfied: tiktoken==0.3.1 in /usr/local/lib/python3.10/dist-packages (from openai-whisper==20230314->decipher==0.0.0) (0.3.1)\n",
            "Requirement already satisfied: ffmpeg-python==0.2.0 in /usr/local/lib/python3.10/dist-packages (from openai-whisper==20230314->decipher==0.0.0) (0.2.0)\n",
            "Requirement already satisfied: future in /usr/local/lib/python3.10/dist-packages (from ffmpeg-python==0.2.0->openai-whisper==20230314->decipher==0.0.0) (0.18.3)\n",
            "Requirement already satisfied: regex>=2022.1.18 in /usr/local/lib/python3.10/dist-packages (from tiktoken==0.3.1->openai-whisper==20230314->decipher==0.0.0) (2023.6.3)\n",
            "Requirement already satisfied: requests>=2.26.0 in /usr/local/lib/python3.10/dist-packages (from tiktoken==0.3.1->openai-whisper==20230314->decipher==0.0.0) (2.31.0)\n",
            "Requirement already satisfied: cmake in /usr/local/lib/python3.10/dist-packages (from triton==2.0.0->openai-whisper==20230314->decipher==0.0.0) (3.27.6)\n",
            "Requirement already satisfied: filelock in /usr/local/lib/python3.10/dist-packages (from triton==2.0.0->openai-whisper==20230314->decipher==0.0.0) (3.12.4)\n",
            "Requirement already satisfied: lit in /usr/local/lib/python3.10/dist-packages (from triton==2.0.0->openai-whisper==20230314->decipher==0.0.0) (17.0.2)\n",
            "Requirement already satisfied: llvmlite<0.40,>=0.39.0dev0 in /usr/local/lib/python3.10/dist-packages (from numba->openai-whisper==20230314->decipher==0.0.0) (0.39.1)\n",
            "Requirement already satisfied: setuptools in /usr/local/lib/python3.10/dist-packages (from numba->openai-whisper==20230314->decipher==0.0.0) (67.7.2)\n",
            "Requirement already satisfied: typing-extensions in /usr/local/lib/python3.10/dist-packages (from torch->openai-whisper==20230314->decipher==0.0.0) (4.5.0)\n",
            "Requirement already satisfied: sympy in /usr/local/lib/python3.10/dist-packages (from torch->openai-whisper==20230314->decipher==0.0.0) (1.12)\n",
            "Requirement already satisfied: networkx in /usr/local/lib/python3.10/dist-packages (from torch->openai-whisper==20230314->decipher==0.0.0) (3.1)\n",
            "Requirement already satisfied: jinja2 in /usr/local/lib/python3.10/dist-packages (from torch->openai-whisper==20230314->decipher==0.0.0) (3.1.2)\n",
            "Requirement already satisfied: charset-normalizer<4,>=2 in /usr/local/lib/python3.10/dist-packages (from requests>=2.26.0->tiktoken==0.3.1->openai-whisper==20230314->decipher==0.0.0) (3.3.0)\n",
            "Requirement already satisfied: idna<4,>=2.5 in /usr/local/lib/python3.10/dist-packages (from requests>=2.26.0->tiktoken==0.3.1->openai-whisper==20230314->decipher==0.0.0) (3.4)\n",
            "Requirement already satisfied: urllib3<3,>=1.21.1 in /usr/local/lib/python3.10/dist-packages (from requests>=2.26.0->tiktoken==0.3.1->openai-whisper==20230314->decipher==0.0.0) (2.0.6)\n",
            "Requirement already satisfied: certifi>=2017.4.17 in /usr/local/lib/python3.10/dist-packages (from requests>=2.26.0->tiktoken==0.3.1->openai-whisper==20230314->decipher==0.0.0) (2023.7.22)\n",
            "Requirement already satisfied: MarkupSafe>=2.0 in /usr/local/lib/python3.10/dist-packages (from jinja2->torch->openai-whisper==20230314->decipher==0.0.0) (2.1.3)\n",
            "Requirement already satisfied: mpmath>=0.19 in /usr/local/lib/python3.10/dist-packages (from sympy->torch->openai-whisper==20230314->decipher==0.0.0) (1.3.0)\n"
          ]
        }
      ],
      "source": [
        "#@title ## Install Decipher\n",
        "\n",
        "#@markdown  Setting ကို GPU ထားပါ\n",
        "\n",
        "#@markdown go to Runtime > Change runtime type and select GPU in the \"Hardware accelerator\" dropdown menu then click \"Save\".\n",
        "\n",
        "!nvidia-smi\n",
        "!apt update && apt install ffmpeg fonts-open-sans\n",
        "!pip install git+https://github.com/dsymbol/decipher"
      ]
    },
    {
      "cell_type": "code",
      "source": [
        "#@title ## Mount Google Drive\n",
        "\n",
        "#@markdown Google drive ကို ဖွင့်မယ်\n",
        "\n",
        "\n",
        "#@markdown Google drive ကို permission ပေးပါ\n",
        "from google.colab import drive\n",
        "drive.mount('/content/drive')"
      ],
      "metadata": {
        "colab": {
          "base_uri": "https://localhost:8080/"
        },
        "id": "OeC60HK82psl",
        "outputId": "a5e51661-1bc8-431c-dc7b-4939b9cb5eb4",
        "cellView": "form"
      },
      "execution_count": 3,
      "outputs": [
        {
          "output_type": "stream",
          "name": "stdout",
          "text": [
            "Mounted at /content/drive\n"
          ]
        }
      ]
    },
    {
      "cell_type": "code",
      "source": [
        "#@title Transcribe\n",
        "\n",
        "#@markdown Transcribe ရွေးပြီး language မှာ မူလ language code or en ပဲထားပေးပါ add or none ထားပါ input က drive ထဲက video file ကိုဖိပြီး copy pathပြီး pasted ချပါ model က စာလုံး အရွယ်အစားပါ\n",
        "\n",
        "Path_ကို_pasted = \"/content/drive/MyDrive/DriveUploader/ (Sora Shiina) .mp4\" #@param {type:\"string\"}\n",
        "output_dir = \"results\" #@param {type:\"string\"}\n",
        "စာလုံးအရွယ် = \"small\" #@param['tiny.en','tiny','base.en','base','small.en','small','medium.en','medium','large-v1','large-v2','large']\n",
        "language = \"ja\" #@param {type:\"string\"}\n",
        "task = \"translate\" #@param [\"transcribe\", \"translate\"]\n",
        "subtitle_action = \"None\" #@param [\"None\", \"add\", \"burn\"]\n",
        "\n",
        "from decipher.action import transcribe\n",
        "import os\n",
        "\n",
        "dir = os.getcwd()\n",
        "\n",
        "transcribe(\n",
        "    Path_ကို_pasted,\n",
        "    output_dir if output_dir else \"result\",\n",
        "    စာလုံးအရွယ် if စာလုံးအရွယ် else \"small\",\n",
        "    language if language else None,\n",
        "    task,\n",
        "    subtitle_action if subtitle_action != \"None\" else None\n",
        ")\n",
        "\n",
        "os.chdir(dir)"
      ],
      "metadata": {
        "colab": {
          "base_uri": "https://localhost:8080/"
        },
        "id": "F_brlbXrzNCu",
        "outputId": "efaf588f-92ea-4b50-9201-60b21db9dc8f"
      },
      "execution_count": null,
      "outputs": [
        {
          "output_type": "stream",
          "name": "stderr",
          "text": [
            "Convert  (Sora Shiina) .mp4 to  (Sora Shiina) .aac: 100%|█| 7066/7066 [00:32<00:\n",
            "100%|████████████████████████████████████████| 461M/461M [00:02<00:00, 163MiB/s]\n"
          ]
        },
        {
          "output_type": "stream",
          "name": "stdout",
          "text": [
            "[00:00.000 --> 00:10.000]  Today, I was called by Rizu-san, so I came to the park as time went by.\n",
            "[00:10.000 --> 00:14.000]  I wore a hat and tied it up.\n",
            "[00:14.000 --> 00:20.000]  Where is Rizu-san?\n",
            "[00:20.000 --> 00:22.000]  Wow, people are...\n",
            "[00:22.000 --> 00:24.000]  Shina-san!\n",
            "[00:24.000 --> 00:26.000]  Oh, it's on.\n",
            "[00:26.000 --> 00:28.000]  It's on. It's on.\n",
            "[00:28.000 --> 00:30.000]  Yay!\n",
            "[00:30.000 --> 00:32.000]  Thank you for coming today.\n",
            "[00:32.000 --> 00:34.000]  It's been a while.\n",
            "[00:34.000 --> 00:36.000]  Let's go.\n",
            "[00:36.000 --> 00:42.000]  Why did you call me today?\n",
            "[00:42.000 --> 00:46.000]  Do you know the important part of Yorimawago?\n",
            "[00:46.000 --> 00:48.000]  Of course.\n",
            "[00:48.000 --> 00:50.000]  I invited you to Yorimawago.\n",
            "[00:50.000 --> 00:52.000]  Thank you.\n",
            "[00:52.000 --> 00:56.000]  So, we will travel together while we are in the car.\n",
            "[00:56.000 --> 01:00.000]  We will talk about the good things about the car.\n",
            "[01:00.000 --> 01:02.000]  We will talk about the girl.\n",
            "[01:02.000 --> 01:04.000]  I want to go with the girl.\n",
            "[01:04.000 --> 01:06.000]  I will go with her.\n",
            "[01:06.000 --> 01:08.000]  Let's go.\n",
            "[01:08.000 --> 01:10.000]  There is a car parked there.\n",
            "[01:10.000 --> 01:12.000]  Let's go.\n",
            "[01:12.000 --> 01:14.000]  Here.\n",
            "[01:14.000 --> 01:16.000]  I'm a little dirty.\n",
            "[01:18.000 --> 01:20.000]  This.\n",
            "[01:22.000 --> 01:24.000]  Here.\n",
            "[01:24.000 --> 01:26.000]  Here.\n",
            "[01:26.000 --> 01:28.000]  Can you put it here?\n",
            "[01:28.000 --> 01:30.000]  This is a self-made car.\n",
            "[01:30.000 --> 01:32.000]  Oh, really?\n",
            "[01:32.000 --> 01:34.000]  It looks like this.\n",
            "[01:34.000 --> 01:36.000]  This is a practical car.\n",
            "[01:36.000 --> 01:38.000]  You can follow it.\n",
            "[01:38.000 --> 01:40.000]  Oh, really?\n",
            "[01:40.000 --> 01:42.000]  Sometimes you can follow it.\n",
            "[01:42.000 --> 01:44.000]  I saw it.\n",
            "[01:44.000 --> 01:46.000]  Did you see it?\n",
            "[01:46.000 --> 01:48.000]  It's a daily car.\n",
            "[01:48.000 --> 01:52.000]  When you go to an event with a girl,\n",
            "[01:52.000 --> 01:54.000]  you can follow her.\n",
            "[01:54.000 --> 01:56.000]  You can put a seatbelt.\n",
            "[01:56.000 --> 01:58.000]  Thank you.\n",
            "[01:58.000 --> 02:02.000]  Let's go on a trip without a goal.\n",
            "[02:02.000 --> 02:04.000]  I don't have a plan.\n",
            "[02:04.000 --> 02:06.000]  I don't have time for anything.\n",
            "[02:06.000 --> 02:08.000]  I always go with the enemy.\n",
            "[02:08.000 --> 02:10.000]  Oh, no.\n",
            "[02:10.000 --> 02:12.000]  Let's go.\n",
            "[02:12.000 --> 02:14.000]  Let's go.\n",
            "[02:14.000 --> 02:16.000]  Let's go.\n",
            "[02:18.000 --> 02:22.000]  It's hard to understand.\n",
            "[02:22.000 --> 02:26.000]  There is a DVD store.\n",
            "[02:26.000 --> 02:28.000]  Yes.\n",
            "[02:28.000 --> 02:30.000]  Have you been there?\n",
            "[02:30.000 --> 02:32.000]  Yes.\n",
            "[02:32.000 --> 02:34.000]  Have you been there?\n",
            "[02:34.000 --> 02:36.000]  Yes.\n",
            "[02:36.000 --> 02:38.000]  I often go there.\n",
            "[02:38.000 --> 02:40.000]  You don't notice it?\n",
            "[02:40.000 --> 02:42.000]  I have been followed by a person.\n",
            "[02:42.000 --> 02:46.000]  I have been followed by a person who went to Ramtarasate.\n",
            "[02:46.000 --> 02:50.000]  I don't know if he is paying attention to me.\n",
            "[02:50.000 --> 02:52.000]  I have my own work.\n",
            "[02:52.000 --> 02:54.000]  I'm embarrassed.\n",
            "[02:54.000 --> 02:56.000]  I'm embarrassed.\n",
            "[02:56.000 --> 02:58.000]  I'm embarrassed.\n",
            "[02:58.000 --> 03:00.000]  I have my own work.\n",
            "[03:00.000 --> 03:02.000]  I'm embarrassed.\n",
            "[03:02.000 --> 03:04.000]  I don't know what's going on.\n",
            "[03:04.000 --> 03:06.000]  I'm embarrassed.\n",
            "[03:06.000 --> 03:08.000]  I'm embarrassed.\n",
            "[03:08.000 --> 03:10.000]  There are people who know me.\n",
            "[03:10.000 --> 03:12.000]  Yes.\n"
          ]
        }
      ]
    }
  ]
}